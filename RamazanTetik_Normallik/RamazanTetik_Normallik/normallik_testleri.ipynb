{
 "cells": [
  {
   "cell_type": "markdown",
   "id": "5a3f32ec-bbf0-430d-915e-635f5668d0b3",
   "metadata": {},
   "source": [
    "## Normallik Testleri"
   ]
  },
  {
   "cell_type": "markdown",
   "id": "25e8c457-9228-4256-a987-cc1ce0c0fd6e",
   "metadata": {},
   "source": [
    "- Normallik sınamalarının amacı verilmiş bir veri dizisinin normal dağılıma uygunluk iyiliğinin incelenmesidir.\n",
    "- Hipotezler şu şekilde kurulur:\n",
    "- **H0:** Veri normal dağılıma uygundur.\n",
    "- **H1:** Veri normal dağılıma uygun değildir.\n",
    "- Bu çalışmada 3 çeşit normallik testi uygulayacağız.\n",
    "- Shapiro-Wilk Testi\r",
    "- \n",
    "D’Agostino’s K^2 Tesi\n",
    "- Anderson-Darling Testist"
   ]
  },
  {
   "cell_type": "markdown",
   "id": "4192dff3-4de9-4769-9118-31d8e986df7e",
   "metadata": {},
   "source": [
    "### 1)Shapiro-Wilk Testi"
   ]
  },
  {
   "cell_type": "code",
   "execution_count": 16,
   "id": "ab204764-4ed1-44d7-8325-5d60d8acb8cf",
   "metadata": {},
   "outputs": [],
   "source": [
    "import pandas as pd\n",
    "import scipy.stats as stats\n",
    "import matplotlib.pyplot as plt\n",
    "import numpy as np\n",
    "import seaborn as sns"
   ]
  },
  {
   "cell_type": "code",
   "execution_count": 24,
   "id": "0e067ff7-3591-489d-99d2-5b1b3ad7e90e",
   "metadata": {},
   "outputs": [
    {
     "data": {
      "text/html": [
       "<div>\n",
       "<style scoped>\n",
       "    .dataframe tbody tr th:only-of-type {\n",
       "        vertical-align: middle;\n",
       "    }\n",
       "\n",
       "    .dataframe tbody tr th {\n",
       "        vertical-align: top;\n",
       "    }\n",
       "\n",
       "    .dataframe thead th {\n",
       "        text-align: right;\n",
       "    }\n",
       "</style>\n",
       "<table border=\"1\" class=\"dataframe\">\n",
       "  <thead>\n",
       "    <tr style=\"text-align: right;\">\n",
       "      <th></th>\n",
       "      <th>Id</th>\n",
       "      <th>Mounths</th>\n",
       "      <th>PM10 in æg/m3</th>\n",
       "      <th>SO2 in æg/m3</th>\n",
       "      <th>NOx  in æg/m3</th>\n",
       "      <th>PM2.5  in æg/m3</th>\n",
       "      <th>Ammonia - NH3  in æg/m3</th>\n",
       "      <th>O3   in æg/m3</th>\n",
       "      <th>CO  in mg/m3</th>\n",
       "      <th>Benzene  in æg/m3</th>\n",
       "      <th>AQI</th>\n",
       "    </tr>\n",
       "  </thead>\n",
       "  <tbody>\n",
       "    <tr>\n",
       "      <th>0</th>\n",
       "      <td>1</td>\n",
       "      <td>Jan-17</td>\n",
       "      <td>174.0</td>\n",
       "      <td>26.4</td>\n",
       "      <td>35.0</td>\n",
       "      <td>79</td>\n",
       "      <td>25.0</td>\n",
       "      <td>107.6</td>\n",
       "      <td>0.9</td>\n",
       "      <td>0.7</td>\n",
       "      <td>149.0</td>\n",
       "    </tr>\n",
       "    <tr>\n",
       "      <th>1</th>\n",
       "      <td>2</td>\n",
       "      <td>Feb-17</td>\n",
       "      <td>143.0</td>\n",
       "      <td>35.1</td>\n",
       "      <td>40.3</td>\n",
       "      <td>75</td>\n",
       "      <td>31.0</td>\n",
       "      <td>103.0</td>\n",
       "      <td>0.9</td>\n",
       "      <td>0.9</td>\n",
       "      <td>129.0</td>\n",
       "    </tr>\n",
       "  </tbody>\n",
       "</table>\n",
       "</div>"
      ],
      "text/plain": [
       "   Id Mounths  PM10 in æg/m3  SO2 in æg/m3  NOx  in æg/m3   PM2.5  in æg/m3  \\\n",
       "0   1  Jan-17          174.0          26.4           35.0                79   \n",
       "1   2  Feb-17          143.0          35.1           40.3                75   \n",
       "\n",
       "   Ammonia - NH3  in æg/m3  O3   in æg/m3  CO  in mg/m3   Benzene  in æg/m3  \\\n",
       "0                     25.0          107.6           0.9                 0.7   \n",
       "1                     31.0          103.0           0.9                 0.9   \n",
       "\n",
       "     AQI  \n",
       "0  149.0  \n",
       "1  129.0  "
      ]
     },
     "execution_count": 24,
     "metadata": {},
     "output_type": "execute_result"
    }
   ],
   "source": [
    "#Hyderabad'taki Hava Kalitesi: Kirlilik Analizi veri seti ile çalışalım\n",
    "df = pd.read_csv(\"AQI Data Set.csv\")\n",
    "df.head(2)"
   ]
  },
  {
   "cell_type": "markdown",
   "id": "4613dcbf-b72f-41e7-975f-84b6a9c031a5",
   "metadata": {},
   "source": [
    "**Bu veri setindeki AQI (Hava Kalitesi Endeksi) değerlerinin normal dağılıma uyup uymadığını belirleyiniz. α=0.05**"
   ]
  },
  {
   "cell_type": "markdown",
   "id": "c10aa40a-70ee-48c0-ba78-cf61384900a9",
   "metadata": {},
   "source": [
    "- **H0:** Veri normal dağılmıştır.\n",
    "- **H1:** Veri normal dağılmamıştır"
   ]
  },
  {
   "cell_type": "code",
   "execution_count": 33,
   "id": "09f83b7d-a29b-420e-9d36-38c81142678f",
   "metadata": {},
   "outputs": [],
   "source": [
    "#import shapiro\n",
    "from scipy.stats import shapiro"
   ]
  },
  {
   "cell_type": "code",
   "execution_count": 37,
   "id": "938e481a-d89c-4e76-80e3-0d147cc1f38c",
   "metadata": {},
   "outputs": [
    {
     "data": {
      "text/plain": [
       "Id                         0\n",
       "Mounths                    0\n",
       "PM10 in æg/m3              6\n",
       "SO2 in æg/m3               1\n",
       "NOx  in æg/m3              2\n",
       " PM2.5  in æg/m3           0\n",
       "Ammonia - NH3  in æg/m3    0\n",
       "O3   in æg/m3              0\n",
       "CO  in mg/m3               0\n",
       " Benzene  in æg/m3         0\n",
       "AQI                        5\n",
       "dtype: int64"
      ]
     },
     "execution_count": 37,
     "metadata": {},
     "output_type": "execute_result"
    }
   ],
   "source": [
    "df.isnull().sum()"
   ]
  },
  {
   "cell_type": "code",
   "execution_count": 40,
   "id": "81b5d4bb-1c57-42c2-ba74-3519d888a59d",
   "metadata": {},
   "outputs": [],
   "source": [
    "# Growth değişkenini seçelim\n",
    "AQI = df['AQI'].dropna()"
   ]
  },
  {
   "cell_type": "code",
   "execution_count": 42,
   "id": "c86b5afa-7be2-41e1-a8ab-16d685a2b36d",
   "metadata": {},
   "outputs": [
    {
     "name": "stdout",
     "output_type": "stream",
     "text": [
      "stat=0.977, p=0.263\n"
     ]
    }
   ],
   "source": [
    "stat,p = stats.shapiro(AQI)\n",
    "print('stat=%.3f, p=%.3f' % (stat, p))"
   ]
  },
  {
   "cell_type": "code",
   "execution_count": 45,
   "id": "87efa017-6341-4f7a-8d92-1ad47ddefbe2",
   "metadata": {},
   "outputs": [
    {
     "name": "stdout",
     "output_type": "stream",
     "text": [
      "H0 kabul edilir,veri normal dağılıma sahiptir.\n"
     ]
    }
   ],
   "source": [
    "alpha = 0.05\n",
    "if p>alpha:\n",
    "    print(\"H0 kabul edilir,veri normal dağılıma sahiptir.\")\n",
    "else:\n",
    "    print(\"H1 kabul edilir,veri normal dağılıma sahip değildir.\")"
   ]
  },
  {
   "cell_type": "code",
   "execution_count": 52,
   "id": "a92fd960-06e8-4cac-9b61-77d24d82cb0e",
   "metadata": {},
   "outputs": [
    {
     "data": {
      "image/png": "[encoded data removed]",
      "text/plain": [
       "<Figure size 600x600 with 1 Axes>"
      ]
     },
     "metadata": {},
     "output_type": "display_data"
    }
   ],
   "source": [
    "# Q-Q plot ile görelim , Q-Q Plot, bir dağılımın, teorik olarak beklenen herhangi bir dağılım türü ile uyumlu olup olmadığını değerlendirmek için kullanılır.\n",
    "plt.figure(figsize=(6, 6))\n",
    "stats.probplot(AQI, dist=\"norm\", plot=plt);\n",
    "plt.title(\"Q-Q Plot\")\n",
    "plt.show()"
   ]
  },
  {
   "cell_type": "markdown",
   "id": "32107271-4c11-485d-b176-683fa0ffabf4",
   "metadata": {},
   "source": [
    "**CO (Karbon Monoksit) konsantrasyonlarının normal dağılıma uyup uymadığını test ediniz. α=0.05**\n",
    "- **H0:** Veri normal dağılmıştır.\n",
    "- **H1:** Veri normal dağılmamıştır"
   ]
  },
  {
   "cell_type": "code",
   "execution_count": 56,
   "id": "513920bf-9459-458e-9230-8b5654a0e312",
   "metadata": {},
   "outputs": [
    {
     "name": "stdout",
     "output_type": "stream",
     "text": [
      "stat=0.853, p=0.000\n"
     ]
    }
   ],
   "source": [
    "stat,p = stats.shapiro(df[\"CO  in mg/m3\"])\n",
    "print('stat=%.3f, p=%.3f' % (stat, p))"
   ]
  },
  {
   "cell_type": "code",
   "execution_count": 58,
   "id": "4d44ebf6-0946-4332-9024-c28dd3cdedee",
   "metadata": {},
   "outputs": [
    {
     "name": "stdout",
     "output_type": "stream",
     "text": [
      "H1 kabul edilir,veri normal dağılıma sahip değildir.\n"
     ]
    }
   ],
   "source": [
    "alpha = 0.05\n",
    "if p>alpha:\n",
    "    print(\"H0 kabul edilir,veri normal dağılıma sahiptir.\")\n",
    "else:\n",
    "    print(\"H1 kabul edilir,veri normal dağılıma sahip değildir.\")"
   ]
  },
  {
   "cell_type": "code",
   "execution_count": 62,
   "id": "4a9c3c15-9eb0-4b40-9d37-6750fef92644",
   "metadata": {},
   "outputs": [
    {
     "data": {
      "image/png": "[encoded data removed]",
      "text/plain": [
       "<Figure size 600x600 with 1 Axes>"
      ]
     },
     "metadata": {},
     "output_type": "display_data"
    }
   ],
   "source": [
    "plt.figure(figsize=(6, 6))\n",
    "stats.probplot(df['CO  in mg/m3'], dist=\"norm\", plot=plt);\n",
    "plt.title(\"Q-Q Plot\")\n",
    "plt.show()"
   ]
  },
  {
   "cell_type": "markdown",
   "id": "dae06dac-f20b-4934-b61f-169b42bc64eb",
   "metadata": {},
   "source": [
    "### 2)D’Agostino’s K^2 Testi"
   ]
  },
  {
   "cell_type": "code",
   "execution_count": 87,
   "id": "ca212cc5-c4c2-4ae4-a4a5-0948c2aba5f3",
   "metadata": {},
   "outputs": [
    {
     "data": {
      "text/html": [
       "<div>\n",
       "<style scoped>\n",
       "    .dataframe tbody tr th:only-of-type {\n",
       "        vertical-align: middle;\n",
       "    }\n",
       "\n",
       "    .dataframe tbody tr th {\n",
       "        vertical-align: top;\n",
       "    }\n",
       "\n",
       "    .dataframe thead th {\n",
       "        text-align: right;\n",
       "    }\n",
       "</style>\n",
       "<table border=\"1\" class=\"dataframe\">\n",
       "  <thead>\n",
       "    <tr style=\"text-align: right;\">\n",
       "      <th></th>\n",
       "      <th>FIPS Code</th>\n",
       "      <th>State/Area</th>\n",
       "      <th>Year</th>\n",
       "      <th>Month</th>\n",
       "      <th>Total Civilian Non-Institutional Population in State/Area</th>\n",
       "      <th>Total Civilian Labor Force in State/Area</th>\n",
       "      <th>Percent (%) of State/Area's Population</th>\n",
       "      <th>Total Employment in State/Area</th>\n",
       "      <th>Percent (%) of Labor Force Employed in State/Area</th>\n",
       "      <th>Total Unemployment in State/Area</th>\n",
       "      <th>Percent (%) of Labor Force Unemployed in State/Area</th>\n",
       "    </tr>\n",
       "  </thead>\n",
       "  <tbody>\n",
       "    <tr>\n",
       "      <th>0</th>\n",
       "      <td>1</td>\n",
       "      <td>Alabama</td>\n",
       "      <td>1976</td>\n",
       "      <td>1</td>\n",
       "      <td>2,605,000</td>\n",
       "      <td>1,484,555</td>\n",
       "      <td>57.0</td>\n",
       "      <td>1,386,023</td>\n",
       "      <td>53.2</td>\n",
       "      <td>98,532</td>\n",
       "      <td>6.6</td>\n",
       "    </tr>\n",
       "    <tr>\n",
       "      <th>1</th>\n",
       "      <td>2</td>\n",
       "      <td>Alaska</td>\n",
       "      <td>1976</td>\n",
       "      <td>1</td>\n",
       "      <td>232,000</td>\n",
       "      <td>160,183</td>\n",
       "      <td>69.0</td>\n",
       "      <td>148,820</td>\n",
       "      <td>64.1</td>\n",
       "      <td>11,363</td>\n",
       "      <td>7.1</td>\n",
       "    </tr>\n",
       "  </tbody>\n",
       "</table>\n",
       "</div>"
      ],
      "text/plain": [
       "   FIPS Code State/Area  Year  Month  \\\n",
       "0          1    Alabama  1976      1   \n",
       "1          2     Alaska  1976      1   \n",
       "\n",
       "  Total Civilian Non-Institutional Population in State/Area  \\\n",
       "0                                       2,605,000             \n",
       "1                                         232,000             \n",
       "\n",
       "  Total Civilian Labor Force in State/Area  \\\n",
       "0                             1,484,555      \n",
       "1                               160,183      \n",
       "\n",
       "   Percent (%) of State/Area's Population Total Employment in State/Area  \\\n",
       "0                                    57.0                   1,386,023      \n",
       "1                                    69.0                     148,820      \n",
       "\n",
       "   Percent (%) of Labor Force Employed in State/Area  \\\n",
       "0                                               53.2   \n",
       "1                                               64.1   \n",
       "\n",
       "  Total Unemployment in State/Area  \\\n",
       "0                        98,532      \n",
       "1                        11,363      \n",
       "\n",
       "   Percent (%) of Labor Force Unemployed in State/Area  \n",
       "0                                                6.6    \n",
       "1                                                7.1    "
      ]
     },
     "execution_count": 87,
     "metadata": {},
     "output_type": "execute_result"
    }
   ],
   "source": [
    "#Amerika'da İşsizlik, ABD Eyaletlerine Göre\n",
    "df = pd.read_csv(\"Unemployment in America Per US State.csv\")\n",
    "df.head(2)"
   ]
  },
  {
   "cell_type": "markdown",
   "id": "f0cb5ad1-984b-4977-8e16-ef0c23308bb6",
   "metadata": {},
   "source": [
    "**İşsizlik oranının normal dağılıp dağılmadığını test ediniz. α=0.05**\n",
    "- **H0:** Veri normal dağılmıştır.\n",
    "- **H1:** Veri normal dağılmamıştır\n"
   ]
  },
  {
   "cell_type": "code",
   "execution_count": 91,
   "id": "840b1714-bf49-4570-b000-3cde869444a7",
   "metadata": {},
   "outputs": [],
   "source": [
    "# İşsizlik oranlarını içeren sütun\n",
    "unemployment_rates = df['Percent (%) of Labor Force Unemployed in State/Area']"
   ]
  },
  {
   "cell_type": "code",
   "execution_count": 93,
   "id": "68931efa-9251-49ae-9d37-3b168bef9793",
   "metadata": {},
   "outputs": [
    {
     "data": {
      "text/plain": [
       "0"
      ]
     },
     "execution_count": 93,
     "metadata": {},
     "output_type": "execute_result"
    }
   ],
   "source": [
    "unemployment_rates.isnull().sum()"
   ]
  },
  {
   "cell_type": "code",
   "execution_count": 99,
   "id": "305d7db7-503e-44f1-9c5d-b4f8f0a3019f",
   "metadata": {},
   "outputs": [],
   "source": [
    "from scipy.stats import normaltest"
   ]
  },
  {
   "cell_type": "code",
   "execution_count": 103,
   "id": "08686b03-47c6-4a5a-a3e3-255df19382a5",
   "metadata": {},
   "outputs": [
    {
     "name": "stdout",
     "output_type": "stream",
     "text": [
      "stat=5637.280, p=0.000\n"
     ]
    }
   ],
   "source": [
    "stat, p = normaltest(unemployment_rates)\n",
    "print('stat=%.3f, p=%.3f' % (stat, p))"
   ]
  },
  {
   "cell_type": "code",
   "execution_count": 108,
   "id": "dff24db9-9dac-4b08-96f0-f6f5ab759f5c",
   "metadata": {},
   "outputs": [
    {
     "name": "stdout",
     "output_type": "stream",
     "text": [
      "H0 reddedilir.Veri normal dağılmamıştır.\n"
     ]
    }
   ],
   "source": [
    "if p > 0.05:\n",
    " print('H0 kabul edilir.Veri normal dağılmıştır.')\n",
    "else:\n",
    " print('H0 reddedilir.Veri normal dağılmamıştır.')"
   ]
  },
  {
   "cell_type": "code",
   "execution_count": 112,
   "id": "542f0cdd-ae07-4c10-8221-9d88660f9eb0",
   "metadata": {},
   "outputs": [
    {
     "data": {
      "image/png": "[encoded data removed]",
      "text/plain": [
       "<Figure size 600x600 with 1 Axes>"
      ]
     },
     "metadata": {},
     "output_type": "display_data"
    }
   ],
   "source": [
    "plt.figure(figsize=(6, 6))\n",
    "stats.probplot(unemployment_rates, dist=\"norm\", plot=plt);\n",
    "plt.title(\"Q-Q Plot\")\n",
    "plt.show()"
   ]
  },
  {
   "cell_type": "markdown",
   "id": "b36b9f76-97e8-40b8-8202-61423f215212",
   "metadata": {},
   "source": [
    "**İstihdam oranının normal dağılıma uygun olup olmadığını test ediniz.**\n",
    "- **H0:** Veri normal dağılmıştır.\n",
    "- **H1:** Veri normal dağılmamıştır"
   ]
  },
  {
   "cell_type": "code",
   "execution_count": 115,
   "id": "e345b558-d2ee-40a7-b3e2-5d83b5e5f4e3",
   "metadata": {},
   "outputs": [],
   "source": [
    "# İstihdam oranlarını içeren sütunları seçin\n",
    "employment_rates = df['Percent (%) of Labor Force Employed in State/Area']"
   ]
  },
  {
   "cell_type": "code",
   "execution_count": 117,
   "id": "a2cccbd9-d5cc-4a82-a24c-d985c4c3fcf1",
   "metadata": {},
   "outputs": [
    {
     "data": {
      "text/plain": [
       "0"
      ]
     },
     "execution_count": 117,
     "metadata": {},
     "output_type": "execute_result"
    }
   ],
   "source": [
    "employment_rates.isnull().sum()"
   ]
  },
  {
   "cell_type": "code",
   "execution_count": 119,
   "id": "aae2ffa1-7a2e-4b0e-8000-5bde781acd1c",
   "metadata": {},
   "outputs": [
    {
     "name": "stdout",
     "output_type": "stream",
     "text": [
      "stat=5637.280, p=0.000\n"
     ]
    }
   ],
   "source": [
    "stat, p = normaltest(unemployment_rates)\n",
    "print('stat=%.3f, p=%.3f' % (stat, p))"
   ]
  },
  {
   "cell_type": "code",
   "execution_count": 121,
   "id": "fd120341-2eab-44ac-be7c-bb1aaf2528c5",
   "metadata": {},
   "outputs": [
    {
     "name": "stdout",
     "output_type": "stream",
     "text": [
      "H0 reddedilir.Veri normal dağılmamıştır.\n"
     ]
    }
   ],
   "source": [
    "if p > 0.05:\n",
    " print('H0 kabul edilir.Veri normal dağılmıştır.')\n",
    "else:\n",
    " print('H0 reddedilir.Veri normal dağılmamıştır.')"
   ]
  },
  {
   "cell_type": "markdown",
   "id": "e69e8be1-55e7-43b8-882a-7a645d0efc94",
   "metadata": {},
   "source": [
    "### 3)Anderson-Darling Testi"
   ]
  },
  {
   "cell_type": "code",
   "execution_count": 123,
   "id": "4820fd13-3882-431a-9d8a-ee50b9337ecf",
   "metadata": {},
   "outputs": [
    {
     "data": {
      "text/html": [
       "<div>\n",
       "<style scoped>\n",
       "    .dataframe tbody tr th:only-of-type {\n",
       "        vertical-align: middle;\n",
       "    }\n",
       "\n",
       "    .dataframe tbody tr th {\n",
       "        vertical-align: top;\n",
       "    }\n",
       "\n",
       "    .dataframe thead th {\n",
       "        text-align: right;\n",
       "    }\n",
       "</style>\n",
       "<table border=\"1\" class=\"dataframe\">\n",
       "  <thead>\n",
       "    <tr style=\"text-align: right;\">\n",
       "      <th></th>\n",
       "      <th>Pregnancies</th>\n",
       "      <th>Glucose</th>\n",
       "      <th>BloodPressure</th>\n",
       "      <th>SkinThickness</th>\n",
       "      <th>Insulin</th>\n",
       "      <th>BMI</th>\n",
       "      <th>DiabetesPedigreeFunction</th>\n",
       "      <th>Age</th>\n",
       "      <th>Outcome</th>\n",
       "    </tr>\n",
       "  </thead>\n",
       "  <tbody>\n",
       "    <tr>\n",
       "      <th>0</th>\n",
       "      <td>6</td>\n",
       "      <td>148</td>\n",
       "      <td>72</td>\n",
       "      <td>35</td>\n",
       "      <td>0</td>\n",
       "      <td>33.6</td>\n",
       "      <td>0.627</td>\n",
       "      <td>50</td>\n",
       "      <td>1</td>\n",
       "    </tr>\n",
       "    <tr>\n",
       "      <th>1</th>\n",
       "      <td>1</td>\n",
       "      <td>85</td>\n",
       "      <td>66</td>\n",
       "      <td>29</td>\n",
       "      <td>0</td>\n",
       "      <td>26.6</td>\n",
       "      <td>0.351</td>\n",
       "      <td>31</td>\n",
       "      <td>0</td>\n",
       "    </tr>\n",
       "  </tbody>\n",
       "</table>\n",
       "</div>"
      ],
      "text/plain": [
       "   Pregnancies  Glucose  BloodPressure  SkinThickness  Insulin   BMI  \\\n",
       "0            6      148             72             35        0  33.6   \n",
       "1            1       85             66             29        0  26.6   \n",
       "\n",
       "   DiabetesPedigreeFunction  Age  Outcome  \n",
       "0                     0.627   50        1  \n",
       "1                     0.351   31        0  "
      ]
     },
     "execution_count": 123,
     "metadata": {},
     "output_type": "execute_result"
    }
   ],
   "source": [
    "#Pima Kızılderilileri Diyabet Veritabanı\n",
    "df = pd.read_csv(\"diabetes.csv\")\n",
    "df.head(2)"
   ]
  },
  {
   "cell_type": "markdown",
   "id": "239cb4cd-a778-4d35-96de-db8856de2f59",
   "metadata": {},
   "source": [
    "**Glikoz seviyelerinin normal dağılıma uygun olup olmadığını test ediniz.**\n",
    "- **H0:** Veri normal dağılmıştır.\n",
    "- **H1:** Veri normal dağılmamıştır"
   ]
  },
  {
   "cell_type": "code",
   "execution_count": 128,
   "id": "e61605bf-12ef-4577-8b24-9b5bcb5146c7",
   "metadata": {},
   "outputs": [],
   "source": [
    "glucose_levels = df['Glucose']"
   ]
  },
  {
   "cell_type": "code",
   "execution_count": 130,
   "id": "c05e1853-a69d-409a-819e-1650cbe1bb73",
   "metadata": {},
   "outputs": [
    {
     "data": {
      "text/plain": [
       "0"
      ]
     },
     "execution_count": 130,
     "metadata": {},
     "output_type": "execute_result"
    }
   ],
   "source": [
    "glucose_levels.isnull().sum()"
   ]
  },
  {
   "cell_type": "code",
   "execution_count": 132,
   "id": "a0ffa39f-08a3-4f2e-b807-e77afc127dea",
   "metadata": {},
   "outputs": [
    {
     "name": "stdout",
     "output_type": "stream",
     "text": [
      "Anderson-Darling Testi: Test istatistiği = 5.965074622477118\n"
     ]
    }
   ],
   "source": [
    "ad_test = stats.anderson(glucose_levels, dist='norm')\n",
    "print(\"Anderson-Darling Testi: Test istatistiği = {}\".format(ad_test.statistic))"
   ]
  },
  {
   "cell_type": "code",
   "execution_count": 136,
   "id": "ec7e4f9e-5cb6-4b7e-b00d-b52702eb8901",
   "metadata": {},
   "outputs": [
    {
     "name": "stdout",
     "output_type": "stream",
     "text": [
      "15.000: 0.573, data does not look normal (reject H0)\n",
      "10.000: 0.653, data does not look normal (reject H0)\n",
      "5.000: 0.783, data does not look normal (reject H0)\n",
      "2.500: 0.913, data does not look normal (reject H0)\n",
      "1.000: 1.086, data does not look normal (reject H0)\n"
     ]
    }
   ],
   "source": [
    "for i in range(len(ad_test.critical_values)):\n",
    " sl, cv = ad_test.significance_level[i], ad_test.critical_values[i]\n",
    " if ad_test.statistic < ad_test.critical_values[i]:\n",
    "     print('%.3f: %.3f, data looks normal (fail to reject H0)' % (sl, cv))\n",
    " else:\n",
    "     print('%.3f: %.3f, data does not look normal (reject H0)' % (sl, cv))"
   ]
  },
  {
   "cell_type": "code",
   "execution_count": 138,
   "id": "5494de90-6324-46fd-825f-d3eb6d4297cb",
   "metadata": {},
   "outputs": [
    {
     "data": {
      "image/png": "[encoded data removed]",
      "text/plain": [
       "<Figure size 600x600 with 1 Axes>"
      ]
     },
     "metadata": {},
     "output_type": "display_data"
    }
   ],
   "source": [
    "plt.figure(figsize=(6, 6))\n",
    "stats.probplot(glucose_levels, dist=\"norm\", plot=plt);\n",
    "plt.title(\"Q-Q Plot\")\n",
    "plt.show()"
   ]
  },
  {
   "cell_type": "markdown",
   "id": "32f53d5c-be0b-4a80-b2d7-7f019cc9a5fe",
   "metadata": {},
   "source": [
    "**Vücut kitle indeksinin normal dağılıma uygun olup olmadığını test edin**\n",
    "- **H0:** Veri normal dağılmıştır.\n",
    "- **H1:** Veri normal dağılmamıştır"
   ]
  },
  {
   "cell_type": "code",
   "execution_count": 156,
   "id": "6a1a289b-cfdb-4ed9-afae-c1cda6457116",
   "metadata": {},
   "outputs": [],
   "source": [
    "bmi_values = df['BMI']"
   ]
  },
  {
   "cell_type": "code",
   "execution_count": 158,
   "id": "7358bcdc-8ac1-4b8a-8c3d-a4a6b362c9e2",
   "metadata": {},
   "outputs": [
    {
     "name": "stdout",
     "output_type": "stream",
     "text": [
      "Anderson-Darling Testi: Test istatistiği = 4.1891562244597935\n"
     ]
    }
   ],
   "source": [
    "ad_test = stats.anderson(bmi_values, dist='norm')\n",
    "print(\"Anderson-Darling Testi: Test istatistiği = {}\".format(ad_test.statistic))\n"
   ]
  },
  {
   "cell_type": "code",
   "execution_count": 160,
   "id": "33be5e58-1eb2-4128-a484-ab5cda2bc526",
   "metadata": {},
   "outputs": [
    {
     "name": "stdout",
     "output_type": "stream",
     "text": [
      "15.000: 0.573, data does not look normal (reject H0)\n",
      "10.000: 0.653, data does not look normal (reject H0)\n",
      "5.000: 0.783, data does not look normal (reject H0)\n",
      "2.500: 0.913, data does not look normal (reject H0)\n",
      "1.000: 1.086, data does not look normal (reject H0)\n"
     ]
    }
   ],
   "source": [
    "for i in range(len(ad_test.critical_values)):\n",
    " sl, cv = ad_test.significance_level[i], ad_test.critical_values[i]\n",
    " if ad_test.statistic < ad_test.critical_values[i]:\n",
    "     print('%.3f: %.3f, data looks normal (fail to reject H0)' % (sl, cv))\n",
    " else:\n",
    "     print('%.3f: %.3f, data does not look normal (reject H0)' % (sl, cv))"
   ]
  },
  {
   "cell_type": "code",
   "execution_count": 164,
   "id": "b3669281-76a8-4f52-a0a8-213058f07709",
   "metadata": {},
   "outputs": [
    {
     "data": {
      "image/png": "[encoded data removed]",
      "text/plain": [
       "<Figure size 600x600 with 1 Axes>"
      ]
     },
     "metadata": {},
     "output_type": "display_data"
    }
   ],
   "source": [
    "plt.figure(figsize=(6, 6))\n",
    "stats.probplot(bmi_values, dist=\"norm\", plot=plt);\n",
    "plt.title(\"Q-Q Plot\")\n",
    "plt.show()"
   ]
  },
  {
   "cell_type": "code",
   "execution_count": null,
   "id": "acc000d2-daf8-472e-a866-9e5b8bb887ae",
   "metadata": {},
   "outputs": [],
   "source": []
  },
  {
   "cell_type": "code",
   "execution_count": null,
   "id": "ea690a29-c0fd-4253-be33-a3697204015e",
   "metadata": {},
   "outputs": [],
   "source": []
  },
  {
   "cell_type": "code",
   "execution_count": null,
   "id": "d0915799-98ac-45dd-b137-c2866764daa4",
   "metadata": {},
   "outputs": [],
   "source": []
  },
  {
   "cell_type": "code",
   "execution_count": null,
   "id": "882cd4e0-483c-48a5-adcf-98c01ddf08af",
   "metadata": {},
   "outputs": [],
   "source": []
  }
 ],
 "metadata": {
  "kernelspec": {
   "display_name": "Python 3 (ipykernel)",
   "language": "python",
   "name": "python3"
  },
  "language_info": {
   "codemirror_mode": {
    "name": "ipython",
    "version": 3
   },
   "file_extension": ".py",
   "mimetype": "text/x-python",
   "name": "python",
   "nbconvert_exporter": "python",
   "pygments_lexer": "ipython3",
   "version": "3.12.4"
  }
 },
 "nbformat": 4,
 "nbformat_minor": 5
}
